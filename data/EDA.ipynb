{
 "cells": [
  {
   "cell_type": "markdown",
   "metadata": {},
   "source": [
    "# Exploratory Data Analysis"
   ]
  },
  {
   "cell_type": "code",
   "execution_count": 19,
   "metadata": {},
   "outputs": [
    {
     "name": "stdout",
     "output_type": "stream",
     "text": [
      "The data consists of both images and captions.\n",
      "There are 8091 images.\n",
      "There are 40460 captions.\n",
      "The image file \"2258277193_586949ec62.jpg\" does not exist so there are only 40455 useable captions.\n"
     ]
    }
   ],
   "source": [
    "from pathlib import Path\n",
    "import pandas as pd\n",
    "\n",
    "print('The data consists of both images and captions.')\n",
    "\n",
    "path = Path('Flickr8k/Flicker8k_Dataset/')\n",
    "n_images = sum(1 for x in path.glob('*.jpg') if x.is_file())\n",
    "print(f'There are {n_images} images.')\n",
    "\n",
    "df = pd.read_csv('Flickr8k/Flickr8k_text/Flickr8k.token.txt', delimiter='\\t', header=None, names=['image', 'caption'])\n",
    "print(f'There are {df.shape[0]} captions.')\n",
    "print(f'The image file \"2258277193_586949ec62.jpg\" does not exist so there are only {df.shape[0] - 5} useable captions.')"
   ]
  },
  {
   "cell_type": "code",
   "execution_count": 2,
   "metadata": {},
   "outputs": [
    {
     "data": {
      "text/html": [
       "<div>\n",
       "<style scoped>\n",
       "    .dataframe tbody tr th:only-of-type {\n",
       "        vertical-align: middle;\n",
       "    }\n",
       "\n",
       "    .dataframe tbody tr th {\n",
       "        vertical-align: top;\n",
       "    }\n",
       "\n",
       "    .dataframe thead th {\n",
       "        text-align: right;\n",
       "    }\n",
       "</style>\n",
       "<table border=\"1\" class=\"dataframe\">\n",
       "  <thead>\n",
       "    <tr style=\"text-align: right;\">\n",
       "      <th></th>\n",
       "      <th>image</th>\n",
       "      <th>caption</th>\n",
       "    </tr>\n",
       "  </thead>\n",
       "  <tbody>\n",
       "    <tr>\n",
       "      <th>0</th>\n",
       "      <td>1000268201_693b08cb0e.jpg#0</td>\n",
       "      <td>A child in a pink dress is climbing up a set o...</td>\n",
       "    </tr>\n",
       "    <tr>\n",
       "      <th>1</th>\n",
       "      <td>1000268201_693b08cb0e.jpg#1</td>\n",
       "      <td>A girl going into a wooden building .</td>\n",
       "    </tr>\n",
       "    <tr>\n",
       "      <th>2</th>\n",
       "      <td>1000268201_693b08cb0e.jpg#2</td>\n",
       "      <td>A little girl climbing into a wooden playhouse .</td>\n",
       "    </tr>\n",
       "    <tr>\n",
       "      <th>3</th>\n",
       "      <td>1000268201_693b08cb0e.jpg#3</td>\n",
       "      <td>A little girl climbing the stairs to her playh...</td>\n",
       "    </tr>\n",
       "    <tr>\n",
       "      <th>4</th>\n",
       "      <td>1000268201_693b08cb0e.jpg#4</td>\n",
       "      <td>A little girl in a pink dress going into a woo...</td>\n",
       "    </tr>\n",
       "    <tr>\n",
       "      <th>5</th>\n",
       "      <td>1001773457_577c3a7d70.jpg#0</td>\n",
       "      <td>A black dog and a spotted dog are fighting</td>\n",
       "    </tr>\n",
       "    <tr>\n",
       "      <th>6</th>\n",
       "      <td>1001773457_577c3a7d70.jpg#1</td>\n",
       "      <td>A black dog and a tri-colored dog playing with...</td>\n",
       "    </tr>\n",
       "    <tr>\n",
       "      <th>7</th>\n",
       "      <td>1001773457_577c3a7d70.jpg#2</td>\n",
       "      <td>A black dog and a white dog with brown spots a...</td>\n",
       "    </tr>\n",
       "    <tr>\n",
       "      <th>8</th>\n",
       "      <td>1001773457_577c3a7d70.jpg#3</td>\n",
       "      <td>Two dogs of different breeds looking at each o...</td>\n",
       "    </tr>\n",
       "    <tr>\n",
       "      <th>9</th>\n",
       "      <td>1001773457_577c3a7d70.jpg#4</td>\n",
       "      <td>Two dogs on pavement moving toward each other .</td>\n",
       "    </tr>\n",
       "  </tbody>\n",
       "</table>\n",
       "</div>"
      ],
      "text/plain": [
       "                         image  \\\n",
       "0  1000268201_693b08cb0e.jpg#0   \n",
       "1  1000268201_693b08cb0e.jpg#1   \n",
       "2  1000268201_693b08cb0e.jpg#2   \n",
       "3  1000268201_693b08cb0e.jpg#3   \n",
       "4  1000268201_693b08cb0e.jpg#4   \n",
       "5  1001773457_577c3a7d70.jpg#0   \n",
       "6  1001773457_577c3a7d70.jpg#1   \n",
       "7  1001773457_577c3a7d70.jpg#2   \n",
       "8  1001773457_577c3a7d70.jpg#3   \n",
       "9  1001773457_577c3a7d70.jpg#4   \n",
       "\n",
       "                                             caption  \n",
       "0  A child in a pink dress is climbing up a set o...  \n",
       "1              A girl going into a wooden building .  \n",
       "2   A little girl climbing into a wooden playhouse .  \n",
       "3  A little girl climbing the stairs to her playh...  \n",
       "4  A little girl in a pink dress going into a woo...  \n",
       "5         A black dog and a spotted dog are fighting  \n",
       "6  A black dog and a tri-colored dog playing with...  \n",
       "7  A black dog and a white dog with brown spots a...  \n",
       "8  Two dogs of different breeds looking at each o...  \n",
       "9    Two dogs on pavement moving toward each other .  "
      ]
     },
     "metadata": {},
     "output_type": "display_data"
    },
    {
     "name": "stdout",
     "output_type": "stream",
     "text": [
      "There are 5 captions for each image.\n"
     ]
    }
   ],
   "source": [
    "display(df.head(10))\n",
    "print(f'There are {df.shape[0] // n_images} captions for each image.')"
   ]
  },
  {
   "cell_type": "markdown",
   "metadata": {},
   "source": [
    "## Frequency of words in the dataset"
   ]
  },
  {
   "cell_type": "code",
   "execution_count": 106,
   "metadata": {},
   "outputs": [
    {
     "name": "stdout",
     "output_type": "stream",
     "text": [
      "Stats and plots for the frequency of words in the dataset.\n",
      "\n",
      "count     9630.000000\n",
      "mean        49.502181\n",
      "std        710.478526\n",
      "min          1.000000\n",
      "25%          1.000000\n",
      "50%          2.000000\n",
      "75%          7.000000\n",
      "max      40322.000000\n",
      "dtype: float64\n"
     ]
    },
    {
     "data": {
      "image/png": "[encoded data removed]",
      "text/plain": [
       "<Figure size 640x480 with 2 Axes>"
      ]
     },
     "metadata": {},
     "output_type": "display_data"
    },
    {
     "name": "stdout",
     "output_type": "stream",
     "text": [
      "a       40322\n",
      ".       36581\n",
      "A       22667\n",
      "in      18963\n",
      "the     15329\n",
      "on      10731\n",
      "is       9345\n",
      "and      8851\n",
      "dog      7984\n",
      "with     7760\n",
      "dtype: int64\n"
     ]
    }
   ],
   "source": [
    "import matplotlib.pyplot as plt\n",
    "import seaborn as sns\n",
    "import numpy as np\n",
    "\n",
    "n_words = []\n",
    "df['caption_length'] = df['caption'].apply(lambda x: n_words.extend(x.split()))\n",
    "n_words = pd.Series(n_words).value_counts()\n",
    "print('Stats and plots for the frequency of words in the dataset.\\n')\n",
    "print(n_words.describe())\n",
    "plt.subplot(1,2,1)\n",
    "sns.kdeplot(np.log(n_words), fill=True)\n",
    "plt.subplot(1,2,2)\n",
    "sns.boxplot(np.log(n_words))\n",
    "plt.show()\n",
    "print(n_words.head(10))"
   ]
  },
  {
   "cell_type": "markdown",
   "metadata": {},
   "source": [
    "The word frequency in the dataset is right skewed.  \n",
    "There are a few outliers with extreme values.  \n",
    "Most of the words only occur one or two times."
   ]
  },
  {
   "cell_type": "markdown",
   "metadata": {},
   "source": [
    "## Frequency of words in each caption"
   ]
  },
  {
   "cell_type": "code",
   "execution_count": 5,
   "metadata": {},
   "outputs": [
    {
     "name": "stdout",
     "output_type": "stream",
     "text": [
      "Stats and plots for the frequency of words in each caption.\n",
      "\n",
      "count    40460.000000\n",
      "mean        11.782155\n",
      "std          3.885175\n",
      "min          1.000000\n",
      "25%          9.000000\n",
      "50%         11.000000\n",
      "75%         14.000000\n",
      "max         38.000000\n",
      "Name: caption_length, dtype: float64\n"
     ]
    },
    {
     "data": {
      "image/png": "[encoded data removed]",
      "text/plain": [
       "<Figure size 640x480 with 2 Axes>"
      ]
     },
     "metadata": {},
     "output_type": "display_data"
    },
    {
     "data": {
      "text/html": [
       "<div>\n",
       "<style scoped>\n",
       "    .dataframe tbody tr th:only-of-type {\n",
       "        vertical-align: middle;\n",
       "    }\n",
       "\n",
       "    .dataframe tbody tr th {\n",
       "        vertical-align: top;\n",
       "    }\n",
       "\n",
       "    .dataframe thead th {\n",
       "        text-align: right;\n",
       "    }\n",
       "</style>\n",
       "<table border=\"1\" class=\"dataframe\">\n",
       "  <thead>\n",
       "    <tr style=\"text-align: right;\">\n",
       "      <th></th>\n",
       "      <th>image</th>\n",
       "      <th>caption</th>\n",
       "      <th>caption_length</th>\n",
       "    </tr>\n",
       "  </thead>\n",
       "  <tbody>\n",
       "    <tr>\n",
       "      <th>5585</th>\n",
       "      <td>2165461920_1a4144eb2b.jpg#0</td>\n",
       "      <td>dogs racing</td>\n",
       "      <td>2</td>\n",
       "    </tr>\n",
       "    <tr>\n",
       "      <th>9310</th>\n",
       "      <td>2428275562_4bde2bc5ea.jpg#0</td>\n",
       "      <td>A</td>\n",
       "      <td>1</td>\n",
       "    </tr>\n",
       "    <tr>\n",
       "      <th>9598</th>\n",
       "      <td>244760301_5809214866.jpg#3</td>\n",
       "      <td>People walking</td>\n",
       "      <td>2</td>\n",
       "    </tr>\n",
       "    <tr>\n",
       "      <th>11368</th>\n",
       "      <td>256085101_2c2617c5d0.jpg#3</td>\n",
       "      <td>Dog yawns</td>\n",
       "      <td>2</td>\n",
       "    </tr>\n",
       "    <tr>\n",
       "      <th>13735</th>\n",
       "      <td>2714703706_d21c5cb8df.jpg#0</td>\n",
       "      <td>dogs playing</td>\n",
       "      <td>2</td>\n",
       "    </tr>\n",
       "    <tr>\n",
       "      <th>14303</th>\n",
       "      <td>2755314937_1e974bf2b5.jpg#3</td>\n",
       "      <td>broken image</td>\n",
       "      <td>2</td>\n",
       "    </tr>\n",
       "    <tr>\n",
       "      <th>15789</th>\n",
       "      <td>2862481071_86c65d46fa.jpg#4</td>\n",
       "      <td>Trucks racing</td>\n",
       "      <td>2</td>\n",
       "    </tr>\n",
       "    <tr>\n",
       "      <th>17109</th>\n",
       "      <td>2929669711_b2d5a640f0.jpg#4</td>\n",
       "      <td>man surfing</td>\n",
       "      <td>2</td>\n",
       "    </tr>\n",
       "    <tr>\n",
       "      <th>20327</th>\n",
       "      <td>3108732084_565b423162.jpg#2</td>\n",
       "      <td>a snowboarder</td>\n",
       "      <td>2</td>\n",
       "    </tr>\n",
       "    <tr>\n",
       "      <th>20677</th>\n",
       "      <td>3125309108_1011486589.jpg#2</td>\n",
       "      <td>rugby match</td>\n",
       "      <td>2</td>\n",
       "    </tr>\n",
       "    <tr>\n",
       "      <th>21255</th>\n",
       "      <td>3154693053_cfcd05c226.jpg#0</td>\n",
       "      <td>A basketball</td>\n",
       "      <td>2</td>\n",
       "    </tr>\n",
       "    <tr>\n",
       "      <th>22093</th>\n",
       "      <td>3189251454_03b76c2e92.jpg#3</td>\n",
       "      <td>dog barking</td>\n",
       "      <td>2</td>\n",
       "    </tr>\n",
       "    <tr>\n",
       "      <th>23231</th>\n",
       "      <td>3237760601_5334f3f3b5.jpg#1</td>\n",
       "      <td>A skier</td>\n",
       "      <td>2</td>\n",
       "    </tr>\n",
       "    <tr>\n",
       "      <th>26348</th>\n",
       "      <td>3360823754_90967276ec.jpg#3</td>\n",
       "      <td>Man skateboarding</td>\n",
       "      <td>2</td>\n",
       "    </tr>\n",
       "    <tr>\n",
       "      <th>33365</th>\n",
       "      <td>3640443200_b8066f37f6.jpg#0</td>\n",
       "      <td>a</td>\n",
       "      <td>1</td>\n",
       "    </tr>\n",
       "    <tr>\n",
       "      <th>33833</th>\n",
       "      <td>3664928753_7b0437fedf.jpg#3</td>\n",
       "      <td>Javelin competition</td>\n",
       "      <td>2</td>\n",
       "    </tr>\n",
       "    <tr>\n",
       "      <th>34530</th>\n",
       "      <td>3694071771_ce760db4c7.jpg#0</td>\n",
       "      <td>a cyclist</td>\n",
       "      <td>2</td>\n",
       "    </tr>\n",
       "  </tbody>\n",
       "</table>\n",
       "</div>"
      ],
      "text/plain": [
       "                             image              caption  caption_length\n",
       "5585   2165461920_1a4144eb2b.jpg#0          dogs racing               2\n",
       "9310   2428275562_4bde2bc5ea.jpg#0                    A               1\n",
       "9598    244760301_5809214866.jpg#3       People walking               2\n",
       "11368   256085101_2c2617c5d0.jpg#3            Dog yawns               2\n",
       "13735  2714703706_d21c5cb8df.jpg#0         dogs playing               2\n",
       "14303  2755314937_1e974bf2b5.jpg#3         broken image               2\n",
       "15789  2862481071_86c65d46fa.jpg#4        Trucks racing               2\n",
       "17109  2929669711_b2d5a640f0.jpg#4          man surfing               2\n",
       "20327  3108732084_565b423162.jpg#2        a snowboarder               2\n",
       "20677  3125309108_1011486589.jpg#2          rugby match               2\n",
       "21255  3154693053_cfcd05c226.jpg#0         A basketball               2\n",
       "22093  3189251454_03b76c2e92.jpg#3          dog barking               2\n",
       "23231  3237760601_5334f3f3b5.jpg#1              A skier               2\n",
       "26348  3360823754_90967276ec.jpg#3    Man skateboarding               2\n",
       "33365  3640443200_b8066f37f6.jpg#0                    a               1\n",
       "33833  3664928753_7b0437fedf.jpg#3  Javelin competition               2\n",
       "34530  3694071771_ce760db4c7.jpg#0            a cyclist               2"
      ]
     },
     "metadata": {},
     "output_type": "display_data"
    }
   ],
   "source": [
    "df['caption_length'] = df['caption'].apply(lambda x: len(x.split()))\n",
    "print('Stats and plots for the frequency of words in each caption.\\n')\n",
    "print(df['caption_length'].describe())\n",
    "plt.subplot(1,2,1)\n",
    "sns.kdeplot(df['caption_length'], fill=True)\n",
    "plt.subplot(1,2,2)\n",
    "sns.boxplot(df['caption_length'])\n",
    "plt.show()\n",
    "display(df[df['caption_length'] < 3])"
   ]
  },
  {
   "cell_type": "markdown",
   "metadata": {},
   "source": [
    "Each caption has about twelve words on average.  \n",
    "The captions with only two words are brief but acceptable.  \n",
    "However, there are two captions that have only the word \"a\".  These are errors and should be removed.\n"
   ]
  }
 ],
 "metadata": {
  "kernelspec": {
   "display_name": "ucsd",
   "language": "python",
   "name": "python3"
  },
  "language_info": {
   "codemirror_mode": {
    "name": "ipython",
    "version": 3
   },
   "file_extension": ".py",
   "mimetype": "text/x-python",
   "name": "python",
   "nbconvert_exporter": "python",
   "pygments_lexer": "ipython3",
   "version": "3.11.4"
  },
  "orig_nbformat": 4
 },
 "nbformat": 4,
 "nbformat_minor": 2
}
